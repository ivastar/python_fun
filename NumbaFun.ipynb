{
 "cells": [
  {
   "cell_type": "markdown",
   "id": "9c4e7958",
   "metadata": {},
   "source": [
    "This is a notebook to demonstrate `numba` following this article:\n",
    "https://pythonspeed.com/articles/numba-faster-python/"
   ]
  },
  {
   "cell_type": "markdown",
   "id": "32bcc7a1",
   "metadata": {},
   "source": [
    "The example is a simple function which takes an array and calculates the monotonically increasing version:\n",
    "```\n",
    "[1, 2, 1, 3, 3, 5, 4, 6] → [1, 2, 2, 3, 3, 5, 5, 6]\n",
    "```"
   ]
  },
  {
   "cell_type": "code",
   "execution_count": 1,
   "id": "eb4b5b7f",
   "metadata": {},
   "outputs": [],
   "source": [
    "import numpy as np\n",
    "from numba import njit"
   ]
  },
  {
   "cell_type": "code",
   "execution_count": 2,
   "id": "50e24651",
   "metadata": {},
   "outputs": [],
   "source": [
    "# Defining a regular function\n",
    "def monotonically_increasing(a):\n",
    "     max_val = 0\n",
    "     for i in range(len(a)):\n",
    "         if a[i] > max_val:\n",
    "             max_val = a[i]\n",
    "         a[i] = max_val\n",
    "     return a"
   ]
  },
  {
   "cell_type": "code",
   "execution_count": 3,
   "id": "ce96e0c8",
   "metadata": {},
   "outputs": [],
   "source": [
    "# Defining the numba decorated function\n",
    "@njit\n",
    "def numba_monotonically_increasing(a):\n",
    "     max_val = 0\n",
    "     for i in range(len(a)):\n",
    "         if a[i] > max_val:\n",
    "             max_val = a[i]\n",
    "         a[i] = max_val\n",
    "     return a"
   ]
  },
  {
   "cell_type": "code",
   "execution_count": 4,
   "id": "e6853f9b",
   "metadata": {},
   "outputs": [
    {
     "name": "stdout",
     "output_type": "stream",
     "text": [
      "CPU times: user 166 ms, sys: 3.95 ms, total: 170 ms\n",
      "Wall time: 169 ms\n"
     ]
    },
    {
     "data": {
      "text/plain": [
       "array([383172, 423888, 654019, ..., 999998, 999998, 999998])"
      ]
     },
     "execution_count": 4,
     "metadata": {},
     "output_type": "execute_result"
    }
   ],
   "source": [
    "# Let's check performance\n",
    "# First run regular function:\n",
    "%time monotonically_increasing(np.random.randint(0, 1000000, 1000000))"
   ]
  },
  {
   "cell_type": "code",
   "execution_count": 5,
   "id": "f3562791",
   "metadata": {},
   "outputs": [
    {
     "name": "stdout",
     "output_type": "stream",
     "text": [
      "CPU times: user 168 ms, sys: 4.04 ms, total: 172 ms\n",
      "Wall time: 172 ms\n"
     ]
    },
    {
     "data": {
      "text/plain": [
       "array([668044, 912628, 927288, ..., 999998, 999998, 999998])"
      ]
     },
     "execution_count": 5,
     "metadata": {},
     "output_type": "execute_result"
    }
   ],
   "source": [
    "# Second run regular function:\n",
    "%time monotonically_increasing(np.random.randint(0, 1000000, 1000000))"
   ]
  },
  {
   "cell_type": "code",
   "execution_count": 6,
   "id": "c3df80b8",
   "metadata": {},
   "outputs": [
    {
     "name": "stdout",
     "output_type": "stream",
     "text": [
      "CPU times: user 164 ms, sys: 4.18 ms, total: 168 ms\n",
      "Wall time: 167 ms\n"
     ]
    },
    {
     "data": {
      "text/plain": [
       "array([ 65725, 200677, 655033, ..., 999999, 999999, 999999])"
      ]
     },
     "execution_count": 6,
     "metadata": {},
     "output_type": "execute_result"
    }
   ],
   "source": [
    "# Third run regular function:\n",
    "%time monotonically_increasing(np.random.randint(0, 1000000, 1000000))"
   ]
  },
  {
   "cell_type": "markdown",
   "id": "d55ca749",
   "metadata": {},
   "source": [
    "Duration of execution is the same."
   ]
  },
  {
   "cell_type": "code",
   "execution_count": 7,
   "id": "e42e1374",
   "metadata": {},
   "outputs": [
    {
     "name": "stdout",
     "output_type": "stream",
     "text": [
      "CPU times: user 520 ms, sys: 83.6 ms, total: 604 ms\n",
      "Wall time: 281 ms\n"
     ]
    },
    {
     "data": {
      "text/plain": [
       "array([505355, 740026, 740026, ..., 999998, 999998, 999998])"
      ]
     },
     "execution_count": 7,
     "metadata": {},
     "output_type": "execute_result"
    }
   ],
   "source": [
    "# First run numba function:\n",
    "%time numba_monotonically_increasing(np.random.randint(0, 1000000, 1000000))"
   ]
  },
  {
   "cell_type": "code",
   "execution_count": 8,
   "id": "80444ac5",
   "metadata": {},
   "outputs": [
    {
     "name": "stdout",
     "output_type": "stream",
     "text": [
      "CPU times: user 6.37 ms, sys: 3.07 ms, total: 9.44 ms\n",
      "Wall time: 8.07 ms\n"
     ]
    },
    {
     "data": {
      "text/plain": [
       "array([909981, 977894, 977894, ..., 999999, 999999, 999999])"
      ]
     },
     "execution_count": 8,
     "metadata": {},
     "output_type": "execute_result"
    }
   ],
   "source": [
    "# Second run numba function:\n",
    "%time numba_monotonically_increasing(np.random.randint(0, 1000000, 1000000))"
   ]
  },
  {
   "cell_type": "code",
   "execution_count": 9,
   "id": "f2c24268",
   "metadata": {},
   "outputs": [
    {
     "name": "stdout",
     "output_type": "stream",
     "text": [
      "CPU times: user 6.67 ms, sys: 3.48 ms, total: 10.1 ms\n",
      "Wall time: 8.1 ms\n"
     ]
    },
    {
     "data": {
      "text/plain": [
       "array([278903, 278903, 278903, ..., 999997, 999997, 999997])"
      ]
     },
     "execution_count": 9,
     "metadata": {},
     "output_type": "execute_result"
    }
   ],
   "source": [
    "# Third run numba function:\n",
    "%time numba_monotonically_increasing(np.random.randint(0, 1000000, 1000000))"
   ]
  },
  {
   "cell_type": "markdown",
   "id": "9d63df27",
   "metadata": {},
   "source": [
    "First run is much slower (function is compiled) but subsequent runs are ~14 times faster!\n",
    "\n",
    "Let's try time it to see the average time for many loops:"
   ]
  },
  {
   "cell_type": "code",
   "execution_count": 10,
   "id": "cd481cdb",
   "metadata": {},
   "outputs": [
    {
     "name": "stdout",
     "output_type": "stream",
     "text": [
      "162 ms ± 1.05 ms per loop (mean ± std. dev. of 7 runs, 10 loops each)\n"
     ]
    }
   ],
   "source": [
    "%timeit monotonically_increasing(np.random.randint(0, 1000000, 1000000))"
   ]
  },
  {
   "cell_type": "code",
   "execution_count": 11,
   "id": "2c2e272e",
   "metadata": {},
   "outputs": [
    {
     "name": "stdout",
     "output_type": "stream",
     "text": [
      "4.36 ms ± 14 µs per loop (mean ± std. dev. of 7 runs, 100 loops each)\n"
     ]
    }
   ],
   "source": [
    "%timeit numba_monotonically_increasing(np.random.randint(0, 1000000, 1000000))"
   ]
  },
  {
   "cell_type": "markdown",
   "id": "1d3e6b9f",
   "metadata": {},
   "source": [
    "Woah!"
   ]
  },
  {
   "cell_type": "code",
   "execution_count": 13,
   "id": "1f7855a2",
   "metadata": {},
   "outputs": [
    {
     "data": {
      "text/plain": [
       "36.81818181818181"
      ]
     },
     "execution_count": 13,
     "metadata": {},
     "output_type": "execute_result"
    }
   ],
   "source": [
    "162/4.4"
   ]
  },
  {
   "cell_type": "markdown",
   "id": "c8131107",
   "metadata": {},
   "source": [
    "37 times faster!!!"
   ]
  },
  {
   "cell_type": "code",
   "execution_count": null,
   "id": "f2fb843b",
   "metadata": {},
   "outputs": [],
   "source": []
  }
 ],
 "metadata": {
  "kernelspec": {
   "display_name": "Python 3 (ipykernel)",
   "language": "python",
   "name": "python3"
  },
  "language_info": {
   "codemirror_mode": {
    "name": "ipython",
    "version": 3
   },
   "file_extension": ".py",
   "mimetype": "text/x-python",
   "name": "python",
   "nbconvert_exporter": "python",
   "pygments_lexer": "ipython3",
   "version": "3.9.11"
  }
 },
 "nbformat": 4,
 "nbformat_minor": 5
}
