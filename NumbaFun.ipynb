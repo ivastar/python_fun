{
 "cells": [
  {
   "cell_type": "markdown",
   "id": "9c4e7958",
   "metadata": {},
   "source": [
    "This is a notebook to demonstrate `numba` following this article:\n",
    "https://pythonspeed.com/articles/numba-faster-python/"
   ]
  },
  {
   "cell_type": "markdown",
   "id": "32bcc7a1",
   "metadata": {},
   "source": [
    "The example is a simple function which takes an array and calculates the monotonically increasing version:\n",
    "```\n",
    "[1, 2, 1, 3, 3, 5, 4, 6] → [1, 2, 2, 3, 3, 5, 5, 6]\n",
    "```"
   ]
  },
  {
   "cell_type": "code",
   "execution_count": 2,
   "id": "eb4b5b7f",
   "metadata": {},
   "outputs": [],
   "source": [
    "import numpy as np\n",
    "from numba import njit"
   ]
  },
  {
   "cell_type": "code",
   "execution_count": 3,
   "id": "50e24651",
   "metadata": {},
   "outputs": [],
   "source": [
    "# Defining a regular function\n",
    "def monotonically_increasing(a):\n",
    "     max_val = 0\n",
    "     for i in range(len(a)):\n",
    "         if a[i] > max_val:\n",
    "             max_val = a[i]\n",
    "         a[i] = max_val\n",
    "     return a"
   ]
  },
  {
   "cell_type": "code",
   "execution_count": 4,
   "id": "ce96e0c8",
   "metadata": {},
   "outputs": [],
   "source": [
    "# Defining the numba decorated function\n",
    "@njit\n",
    "def numba_monotonically_increasing(a):\n",
    "     max_val = 0\n",
    "     for i in range(len(a)):\n",
    "         if a[i] > max_val:\n",
    "             max_val = a[i]\n",
    "         a[i] = max_val\n",
    "     return a"
   ]
  },
  {
   "cell_type": "code",
   "execution_count": 5,
   "id": "e6853f9b",
   "metadata": {},
   "outputs": [
    {
     "name": "stdout",
     "output_type": "stream",
     "text": [
      "CPU times: user 165 ms, sys: 3.94 ms, total: 168 ms\n",
      "Wall time: 168 ms\n"
     ]
    },
    {
     "data": {
      "text/plain": [
       "array([312006, 315999, 315999, ..., 999998, 999998, 999998])"
      ]
     },
     "execution_count": 5,
     "metadata": {},
     "output_type": "execute_result"
    }
   ],
   "source": [
    "# Let's check performance\n",
    "# First run regular function:\n",
    "%time monotonically_increasing(np.random.randint(0, 1000000, 1000000))"
   ]
  },
  {
   "cell_type": "code",
   "execution_count": 6,
   "id": "f3562791",
   "metadata": {},
   "outputs": [
    {
     "name": "stdout",
     "output_type": "stream",
     "text": [
      "CPU times: user 166 ms, sys: 4.11 ms, total: 171 ms\n",
      "Wall time: 170 ms\n"
     ]
    },
    {
     "data": {
      "text/plain": [
       "array([249230, 249230, 834328, ..., 999999, 999999, 999999])"
      ]
     },
     "execution_count": 6,
     "metadata": {},
     "output_type": "execute_result"
    }
   ],
   "source": [
    "# Second run regular function:\n",
    "%time monotonically_increasing(np.random.randint(0, 1000000, 1000000))"
   ]
  },
  {
   "cell_type": "code",
   "execution_count": 7,
   "id": "c3df80b8",
   "metadata": {},
   "outputs": [
    {
     "name": "stdout",
     "output_type": "stream",
     "text": [
      "CPU times: user 166 ms, sys: 3.89 ms, total: 170 ms\n",
      "Wall time: 169 ms\n"
     ]
    },
    {
     "data": {
      "text/plain": [
       "array([390914, 658116, 695778, ..., 999999, 999999, 999999])"
      ]
     },
     "execution_count": 7,
     "metadata": {},
     "output_type": "execute_result"
    }
   ],
   "source": [
    "# Third run regular function:\n",
    "%time monotonically_increasing(np.random.randint(0, 1000000, 1000000))"
   ]
  },
  {
   "cell_type": "markdown",
   "id": "d55ca749",
   "metadata": {},
   "source": [
    "Duration of execution is the same."
   ]
  },
  {
   "cell_type": "code",
   "execution_count": 8,
   "id": "e42e1374",
   "metadata": {},
   "outputs": [
    {
     "name": "stdout",
     "output_type": "stream",
     "text": [
      "CPU times: user 517 ms, sys: 75.9 ms, total: 593 ms\n",
      "Wall time: 273 ms\n"
     ]
    },
    {
     "data": {
      "text/plain": [
       "array([970578, 970578, 970578, ..., 999999, 999999, 999999])"
      ]
     },
     "execution_count": 8,
     "metadata": {},
     "output_type": "execute_result"
    }
   ],
   "source": [
    "# First run numba function:\n",
    "%time numba_monotonically_increasing(np.random.randint(0, 1000000, 1000000))"
   ]
  },
  {
   "cell_type": "code",
   "execution_count": 9,
   "id": "80444ac5",
   "metadata": {},
   "outputs": [
    {
     "name": "stdout",
     "output_type": "stream",
     "text": [
      "CPU times: user 6.73 ms, sys: 3.18 ms, total: 9.91 ms\n",
      "Wall time: 8.43 ms\n"
     ]
    },
    {
     "data": {
      "text/plain": [
       "array([127627, 675199, 675199, ..., 999999, 999999, 999999])"
      ]
     },
     "execution_count": 9,
     "metadata": {},
     "output_type": "execute_result"
    }
   ],
   "source": [
    "# Second run numba function:\n",
    "%time numba_monotonically_increasing(np.random.randint(0, 1000000, 1000000))"
   ]
  },
  {
   "cell_type": "code",
   "execution_count": 10,
   "id": "f2c24268",
   "metadata": {},
   "outputs": [
    {
     "name": "stdout",
     "output_type": "stream",
     "text": [
      "CPU times: user 6.84 ms, sys: 3.47 ms, total: 10.3 ms\n",
      "Wall time: 8.35 ms\n"
     ]
    },
    {
     "data": {
      "text/plain": [
       "array([570448, 570448, 991414, ..., 999997, 999997, 999997])"
      ]
     },
     "execution_count": 10,
     "metadata": {},
     "output_type": "execute_result"
    }
   ],
   "source": [
    "# Third run numba function:\n",
    "%time numba_monotonically_increasing(np.random.randint(0, 1000000, 1000000))"
   ]
  },
  {
   "cell_type": "markdown",
   "id": "9d63df27",
   "metadata": {},
   "source": [
    "First run is much slower (function is compiled) but subsequent runs are ~14 times faster!\n",
    "\n",
    "Let's try time it to see the average time for many loops:"
   ]
  },
  {
   "cell_type": "code",
   "execution_count": 11,
   "id": "cd481cdb",
   "metadata": {},
   "outputs": [
    {
     "name": "stdout",
     "output_type": "stream",
     "text": [
      "162 ms ± 1.4 ms per loop (mean ± std. dev. of 7 runs, 10 loops each)\n"
     ]
    }
   ],
   "source": [
    "%timeit monotonically_increasing(np.random.randint(0, 1000000, 1000000))"
   ]
  },
  {
   "cell_type": "code",
   "execution_count": 12,
   "id": "2c2e272e",
   "metadata": {},
   "outputs": [
    {
     "name": "stdout",
     "output_type": "stream",
     "text": [
      "4.51 ms ± 65.6 µs per loop (mean ± std. dev. of 7 runs, 100 loops each)\n"
     ]
    }
   ],
   "source": [
    "%timeit numba_monotonically_increasing(np.random.randint(0, 1000000, 1000000))"
   ]
  },
  {
   "cell_type": "markdown",
   "id": "1d3e6b9f",
   "metadata": {},
   "source": [
    "Woah! For a sample run the first took 162 ms, while the second took 4.5 seconds on average."
   ]
  },
  {
   "cell_type": "code",
   "execution_count": 14,
   "id": "1f7855a2",
   "metadata": {},
   "outputs": [
    {
     "data": {
      "text/plain": [
       "36.0"
      ]
     },
     "execution_count": 14,
     "metadata": {},
     "output_type": "execute_result"
    }
   ],
   "source": [
    "162/4.5"
   ]
  },
  {
   "cell_type": "markdown",
   "id": "c8131107",
   "metadata": {},
   "source": [
    "~36 times faster!!!"
   ]
  },
  {
   "cell_type": "code",
   "execution_count": null,
   "id": "f2fb843b",
   "metadata": {},
   "outputs": [],
   "source": []
  }
 ],
 "metadata": {
  "kernelspec": {
   "display_name": "Python 3 (ipykernel)",
   "language": "python",
   "name": "python3"
  },
  "language_info": {
   "codemirror_mode": {
    "name": "ipython",
    "version": 3
   },
   "file_extension": ".py",
   "mimetype": "text/x-python",
   "name": "python",
   "nbconvert_exporter": "python",
   "pygments_lexer": "ipython3",
   "version": "3.9.11"
  }
 },
 "nbformat": 4,
 "nbformat_minor": 5
}
